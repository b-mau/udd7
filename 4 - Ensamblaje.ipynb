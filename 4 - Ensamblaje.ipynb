{
 "cells": [
  {
   "cell_type": "markdown",
   "metadata": {},
   "source": [
    "# **4 - Ensamblaje**"
   ]
  },
  {
   "cell_type": "markdown",
   "metadata": {},
   "source": [
    "En esta parte estaré ensamblando los distintos modelos que realicé con distintas técnicas. \n",
    "Primero importo todos los módulos que estaré usando. "
   ]
  },
  {
   "cell_type": "code",
   "execution_count": 1,
   "metadata": {},
   "outputs": [],
   "source": [
    "import numpy as np\n",
    "import pandas as pd\n",
    "import seaborn as sns\n",
    "import matplotlib.pyplot as plt\n",
    "import seaborn as sns\n",
    "import os\n",
    "from PIL import Image\n",
    "from tensorflow.keras.preprocessing.image import ImageDataGenerator\n",
    "import pickle\n",
    "import matplotlib.image as mpimg\n"
   ]
  },
  {
   "cell_type": "markdown",
   "metadata": {},
   "source": [
    "Guardo los nombres de las carpetas en las que tengo guardadas las imágenes. "
   ]
  },
  {
   "cell_type": "code",
   "execution_count": 2,
   "metadata": {},
   "outputs": [],
   "source": [
    "train_folder = r'C:\\Users\\bertr\\Desktop\\UDD\\Proyecto final\\datos\\train'\n",
    "test_folder = r'C:\\Users\\bertr\\Desktop\\UDD\\Proyecto final\\datos\\test'\n",
    "val_folder = r'C:\\Users\\bertr\\Desktop\\UDD\\Proyecto final\\datos\\val'"
   ]
  },
  {
   "cell_type": "markdown",
   "metadata": {},
   "source": [
    "Aquí tengo el generador de imágenes que he estado usando a lo largo de todo el proyecto. Debido a que es un preprocesamiento a tiempo real, lo tengo que ir llamando otra vez para el entrenamiento de las imágenes. "
   ]
  },
  {
   "cell_type": "code",
   "execution_count": 3,
   "metadata": {},
   "outputs": [
    {
     "name": "stdout",
     "output_type": "stream",
     "text": [
      "Found 5216 images belonging to 2 classes.\n",
      "Found 624 images belonging to 2 classes.\n",
      "Found 16 images belonging to 2 classes.\n"
     ]
    }
   ],
   "source": [
    "from tensorflow.keras.preprocessing.image import ImageDataGenerator\n",
    "\n",
    "#Tamaño del batch. Mientras más pequeño sea, mejor aprenderá el modelo. \n",
    "batch_size = 32\n",
    "\n",
    "#Se reescalan todas las imágenes para que tengan una resolución mucho más pequeña\n",
    "train_datagen = ImageDataGenerator(rescale=1./255)\n",
    "val_datagen = ImageDataGenerator(rescale=1./255)\n",
    "test_datagen = ImageDataGenerator(rescale=1./255)\n",
    "\n",
    "#Agarramos las imágenes de sus respectivas carpetas, y las guardamos\n",
    "train_generator = train_datagen.flow_from_directory(\n",
    "    train_folder,\n",
    "    target_size=(150, 150),\n",
    "    batch_size=batch_size,\n",
    "    class_mode='binary'  \n",
    ")\n",
    "\n",
    "test_generator = test_datagen.flow_from_directory(\n",
    "    test_folder,\n",
    "    target_size=(150, 150),\n",
    "    batch_size=batch_size,\n",
    "    class_mode='binary'\n",
    ")\n",
    "\n",
    "\n",
    "val_generator = val_datagen.flow_from_directory(\n",
    "    val_folder,\n",
    "    target_size=(150, 150),\n",
    "    batch_size=batch_size,\n",
    "    class_mode='binary'\n",
    ")"
   ]
  },
  {
   "cell_type": "markdown",
   "metadata": {},
   "source": [
    "Cargo los 3 modelos que creé en el notebook anterior, y los guardo en variables con el mismo nombre. "
   ]
  },
  {
   "cell_type": "code",
   "execution_count": 4,
   "metadata": {},
   "outputs": [],
   "source": [
    "import pickle \n",
    "with open('model1.pkl', 'rb') as f:\n",
    "    model1 = pickle.load(f)"
   ]
  },
  {
   "cell_type": "code",
   "execution_count": 5,
   "metadata": {},
   "outputs": [],
   "source": [
    "with open('model2.pkl', 'rb') as f:\n",
    "    model2 = pickle.load(f)"
   ]
  },
  {
   "cell_type": "code",
   "execution_count": 6,
   "metadata": {},
   "outputs": [
    {
     "name": "stderr",
     "output_type": "stream",
     "text": [
      "c:\\Users\\bertr\\anaconda3\\envs\\bootcmap\\lib\\site-packages\\keras\\src\\saving\\saving_lib.py:415: UserWarning: Skipping variable loading for optimizer 'adam', because it has 26 variables whereas the saved optimizer has 2 variables. \n",
      "  saveable.load_own_variables(weights_store.get(inner_path))\n"
     ]
    }
   ],
   "source": [
    "with open('model3.pkl', 'rb') as f:\n",
    "    model3 = pickle.load(f)"
   ]
  },
  {
   "cell_type": "markdown",
   "metadata": {},
   "source": [
    "## **Ensamblaje 1 -- Averaging**"
   ]
  },
  {
   "cell_type": "markdown",
   "metadata": {},
   "source": [
    "Este el primer ensamblaje que realizaré. Este es Avergaging (promedidador), en el cual simplemente predigo el valor de las imágenes, y se encuentra el promedio de este valor para luego encontrar el valor final. En las primeras líneas con el fit, entreno los modelos durante una época para que esten en uso. \n",
    "\n",
    "Luego genero predicciones con las imágenes de prueba, y guarda estas predicciones en una variable.\n",
    "\n",
    "Encuentro el promedio de estas tres variables, y las guardo en una nueva variable. \n",
    "\n",
    "Por último, redondeo estos resultados para tenerlos todos guardados. Cambio los valores mayores a 0.5 a 1, y los valores menores a esto a 0. "
   ]
  },
  {
   "cell_type": "code",
   "execution_count": 7,
   "metadata": {},
   "outputs": [
    {
     "name": "stderr",
     "output_type": "stream",
     "text": [
      "c:\\Users\\bertr\\anaconda3\\envs\\bootcmap\\lib\\site-packages\\keras\\src\\trainers\\data_adapters\\py_dataset_adapter.py:121: UserWarning: Your `PyDataset` class should call `super().__init__(**kwargs)` in its constructor. `**kwargs` can include `workers`, `use_multiprocessing`, `max_queue_size`. Do not pass these arguments to `fit()`, as they will be ignored.\n",
      "  self._warn_if_super_not_called()\n"
     ]
    },
    {
     "name": "stdout",
     "output_type": "stream",
     "text": [
      "\u001b[1m163/163\u001b[0m \u001b[32m━━━━━━━━━━━━━━━━━━━━\u001b[0m\u001b[37m\u001b[0m \u001b[1m106s\u001b[0m 625ms/step - accuracy: 0.9847 - loss: 0.0457 - val_accuracy: 0.8750 - val_loss: 0.2552\n",
      "\u001b[1m163/163\u001b[0m \u001b[32m━━━━━━━━━━━━━━━━━━━━\u001b[0m\u001b[37m\u001b[0m \u001b[1m78s\u001b[0m 463ms/step - accuracy: 0.9659 - loss: 0.0993 - val_accuracy: 0.8750 - val_loss: 0.4370\n",
      "\u001b[1m163/163\u001b[0m \u001b[32m━━━━━━━━━━━━━━━━━━━━\u001b[0m\u001b[37m\u001b[0m \u001b[1m83s\u001b[0m 489ms/step - accuracy: 0.7865 - loss: 0.4428 - val_accuracy: 0.6250 - val_loss: 0.8580\n",
      "\u001b[1m20/20\u001b[0m \u001b[32m━━━━━━━━━━━━━━━━━━━━\u001b[0m\u001b[37m\u001b[0m \u001b[1m9s\u001b[0m 461ms/step\n",
      "\u001b[1m20/20\u001b[0m \u001b[32m━━━━━━━━━━━━━━━━━━━━\u001b[0m\u001b[37m\u001b[0m \u001b[1m6s\u001b[0m 290ms/step\n",
      "\u001b[1m20/20\u001b[0m \u001b[32m━━━━━━━━━━━━━━━━━━━━\u001b[0m\u001b[37m\u001b[0m \u001b[1m6s\u001b[0m 300ms/step\n"
     ]
    }
   ],
   "source": [
    "import numpy as np\n",
    "\n",
    "# Train your models with the generators\n",
    "model1.fit(train_generator, validation_data=val_generator, epochs=1)\n",
    "model2.fit(train_generator, validation_data=val_generator, epochs=1)\n",
    "model3.fit(train_generator, validation_data=val_generator, epochs=1)\n",
    "\n",
    "# Generate predictions (probabilities) on the test set\n",
    "preds_test_model1 = model1.predict(test_generator)\n",
    "preds_test_model2 = model2.predict(test_generator)\n",
    "preds_test_model3 = model3.predict(test_generator)\n",
    "\n",
    "# Average the predictions\n",
    "preds_test_ensemble = (preds_test_model1 + preds_test_model2 + preds_test_model3) / 3\n",
    "\n",
    "# Convert averaged probabilities to binary predictions\n",
    "final_preds_test = (preds_test_ensemble > 0.5).astype(int)"
   ]
  },
  {
   "cell_type": "code",
   "execution_count": 11,
   "metadata": {},
   "outputs": [],
   "source": [
    "import matplotlib.pyplot as plt\n",
    "from sklearn.metrics import confusion_matrix, accuracy_score, classification_report, f1_score\n",
    "import seaborn as sns\n"
   ]
  },
  {
   "cell_type": "code",
   "execution_count": 13,
   "metadata": {},
   "outputs": [
    {
     "name": "stdout",
     "output_type": "stream",
     "text": [
      "Accuracy: 0.6106\n"
     ]
    }
   ],
   "source": [
    "accuracy = accuracy_score(y_test, final_preds_test)\n",
    "print(f'Accuracy: {accuracy:.4f}')"
   ]
  },
  {
   "cell_type": "markdown",
   "metadata": {},
   "source": [
    "Aquí podemos ver el accuracy del modelo, que es de un 61 porciento aproximadamente. Esto no es tan bueno como los modelos entre sí. Veamos el resultado en una matriz de confusión. "
   ]
  },
  {
   "cell_type": "code",
   "execution_count": 9,
   "metadata": {},
   "outputs": [
    {
     "data": {
      "image/png": "[encoded data removed]",
      "text/plain": [
       "<Figure size 800x600 with 2 Axes>"
      ]
     },
     "metadata": {},
     "output_type": "display_data"
    }
   ],
   "source": [
    "# Assuming y_test are the true labels from the test generator\n",
    "y_test = test_generator.classes\n",
    "\n",
    "# Generate the confusion matrix\n",
    "cm = confusion_matrix(y_test, final_preds_test)\n",
    "\n",
    "# Plot the confusion matrix\n",
    "plt.figure(figsize=(8, 6))\n",
    "sns.heatmap(cm, annot=True, fmt='d', cmap='Blues')\n",
    "plt.xlabel('Predicted Label')\n",
    "plt.ylabel('True Label')\n",
    "plt.title('Confusion Matrix')\n",
    "plt.show()\n"
   ]
  },
  {
   "cell_type": "markdown",
   "metadata": {},
   "source": [
    "Debido a que se están pasando los generadores en las tres imagenes, tenemos muchos más datos de los que se tenían antes. Tenemos muchos verdaderos positivos y muchos falsos positivos. Tengamos en cuenta que los falsos positivos son bastante peligrosos, ya que el significado sería que alguien que tiene neumonía se dice que no lo tiene. Hay pocos falsos negativos, y muy pocos verdaderos "
   ]
  },
  {
   "cell_type": "markdown",
   "metadata": {},
   "source": [
    "## **Ensamblaje 2 -- VotingClassifier**"
   ]
  },
  {
   "cell_type": "markdown",
   "metadata": {},
   "source": [
    "El segundo método de ensamblaje que usaré es VotingClassifier, en el que cada modelo crea su propia predicción, y luego cada uno vota acerca del valor que obtuvo. El valor con más votos es el resultado. Debido a que hay una cantidad impar de modelos, no habrán empates."
   ]
  },
  {
   "cell_type": "code",
   "execution_count": 15,
   "metadata": {},
   "outputs": [
    {
     "name": "stdout",
     "output_type": "stream",
     "text": [
      "\u001b[1m163/163\u001b[0m \u001b[32m━━━━━━━━━━━━━━━━━━━━\u001b[0m\u001b[37m\u001b[0m \u001b[1m77s\u001b[0m 458ms/step - accuracy: 0.9790 - loss: 0.0559 - val_accuracy: 0.8750 - val_loss: 0.3228\n",
      "\u001b[1m163/163\u001b[0m \u001b[32m━━━━━━━━━━━━━━━━━━━━\u001b[0m\u001b[37m\u001b[0m \u001b[1m73s\u001b[0m 433ms/step - accuracy: 0.9716 - loss: 0.0813 - val_accuracy: 0.8750 - val_loss: 0.4989\n",
      "\u001b[1m163/163\u001b[0m \u001b[32m━━━━━━━━━━━━━━━━━━━━\u001b[0m\u001b[37m\u001b[0m \u001b[1m77s\u001b[0m 457ms/step - accuracy: 0.9475 - loss: 0.1329 - val_accuracy: 0.6875 - val_loss: 0.6691\n"
     ]
    }
   ],
   "source": [
    "import numpy as np\n",
    "from sklearn.ensemble import VotingClassifier\n",
    "\n",
    "# Train your models\n",
    "history1 = model1.fit(train_generator, validation_data=val_generator, epochs=1)\n",
    "history2 = model2.fit(train_generator, validation_data=val_generator, epochs=1)\n",
    "history3 = model3.fit(train_generator, validation_data=val_generator, epochs=1)"
   ]
  },
  {
   "cell_type": "code",
   "execution_count": 17,
   "metadata": {},
   "outputs": [
    {
     "name": "stdout",
     "output_type": "stream",
     "text": [
      "\u001b[1m20/20\u001b[0m \u001b[32m━━━━━━━━━━━━━━━━━━━━\u001b[0m\u001b[37m\u001b[0m \u001b[1m8s\u001b[0m 376ms/step\n",
      "\u001b[1m20/20\u001b[0m \u001b[32m━━━━━━━━━━━━━━━━━━━━\u001b[0m\u001b[37m\u001b[0m \u001b[1m7s\u001b[0m 358ms/step\n",
      "\u001b[1m20/20\u001b[0m \u001b[32m━━━━━━━━━━━━━━━━━━━━\u001b[0m\u001b[37m\u001b[0m \u001b[1m7s\u001b[0m 346ms/step\n"
     ]
    }
   ],
   "source": [
    "# Function to generate predictions\n",
    "def get_predictions(model, generator):\n",
    "    steps = generator.n // generator.batch_size + 1  # Make sure to include the remainder\n",
    "    predictions = model.predict(generator, steps=steps, verbose=1)\n",
    "    return predictions[:generator.n]  # Trim to the actual number of samples\n",
    "\n",
    "# Generate predictions\n",
    "preds_test_model1 = get_predictions(model1, test_generator)\n",
    "preds_test_model2 = get_predictions(model2, test_generator)\n",
    "preds_test_model3 = get_predictions(model3, test_generator)\n",
    "\n",
    "# Convert probabilities to binary predictions\n",
    "binary_preds_test_model1 = (preds_test_model1 > 0.5).astype(int)\n",
    "binary_preds_test_model2 = (preds_test_model2 > 0.5).astype(int)\n",
    "binary_preds_test_model3 = (preds_test_model3 > 0.5).astype(int)\n",
    "\n",
    "# Stack predictions\n",
    "X_test_preds = np.column_stack((binary_preds_test_model1, binary_preds_test_model2, binary_preds_test_model3))\n",
    "\n",
    "# Get true labels\n",
    "y_test = test_generator.classes\n",
    "\n",
    "# Majority voting\n",
    "final_preds_test = np.apply_along_axis(lambda x: np.argmax(np.bincount(x)), axis=1, arr=X_test_preds)"
   ]
  },
  {
   "cell_type": "code",
   "execution_count": 18,
   "metadata": {},
   "outputs": [
    {
     "name": "stdout",
     "output_type": "stream",
     "text": [
      "Accuracy: 0.6122\n",
      "Precision: 0.6233\n",
      "Recall: 0.9590\n",
      "F1-score: 0.7556\n"
     ]
    }
   ],
   "source": [
    "from sklearn.metrics import precision_score, recall_score\n",
    "\n",
    "# Calculate accuracy\n",
    "accuracy = accuracy_score(y_test, final_preds_test)\n",
    "print(f'Accuracy: {accuracy:.4f}')\n",
    "\n",
    "# Calculate precision\n",
    "precision = precision_score(y_test, final_preds_test)\n",
    "print(f'Precision: {precision:.4f}')\n",
    "\n",
    "# Calculate recall\n",
    "recall = recall_score(y_test, final_preds_test)\n",
    "print(f'Recall: {recall:.4f}')\n",
    "\n",
    "# Calculate F1-score\n",
    "f1 = f1_score(y_test, final_preds_test)\n",
    "print(f'F1-score: {f1:.4f}')"
   ]
  },
  {
   "cell_type": "code",
   "execution_count": 20,
   "metadata": {},
   "outputs": [
    {
     "data": {
      "image/png": "[encoded data removed]",
      "text/plain": [
       "<Figure size 800x600 with 2 Axes>"
      ]
     },
     "metadata": {},
     "output_type": "display_data"
    },
    {
     "name": "stdout",
     "output_type": "stream",
     "text": [
      "Ensemble Model Accuracy: 0.6121794871794872\n"
     ]
    }
   ],
   "source": [
    "# Evaluate the results\n",
    "\n",
    "# Confusion Matrix\n",
    "cm = confusion_matrix(y_test, final_preds_test)\n",
    "plt.figure(figsize=(8, 6))\n",
    "sns.heatmap(cm, annot=True, fmt='d', cmap='Blues')\n",
    "plt.xlabel('Predicted Label')\n",
    "plt.ylabel('True Label')\n",
    "plt.title('Confusion Matrix')\n",
    "plt.show()\n",
    "\n",
    "# Accuracy\n",
    "accuracy = accuracy_score(y_test, final_preds_test)\n",
    "print(f'Ensemble Model Accuracy: {accuracy}')"
   ]
  },
  {
   "cell_type": "markdown",
   "metadata": {},
   "source": [
    "Debido a que se están pasando los generadores en las tres imagenes, tenemos muchos más datos de los que se tenían antes. Tenemos muchos verdaderos positivos y muchos falsos positivos. Tengamos en cuenta que los falsos positivos son bastante peligrosos, ya que el significado sería que alguien que tiene neumonía se dice que no lo tiene. Hay pocos falsos negativos, y muy pocos verdaderos "
   ]
  },
  {
   "cell_type": "markdown",
   "metadata": {},
   "source": [
    "## **Ensamblaje 3 -- Stacking**"
   ]
  },
  {
   "cell_type": "markdown",
   "metadata": {},
   "source": [
    "Stacking: combina las predicciones de múltiples modelos de base mediante un modelo de nivel superior (o meta-modelo) que aprende a optimizar las predicciones finales.\n"
   ]
  },
  {
   "cell_type": "code",
   "execution_count": 22,
   "metadata": {},
   "outputs": [
    {
     "name": "stdout",
     "output_type": "stream",
     "text": [
      "\u001b[1m163/163\u001b[0m \u001b[32m━━━━━━━━━━━━━━━━━━━━\u001b[0m\u001b[37m\u001b[0m \u001b[1m56s\u001b[0m 344ms/step\n",
      "\u001b[1m163/163\u001b[0m \u001b[32m━━━━━━━━━━━━━━━━━━━━\u001b[0m\u001b[37m\u001b[0m \u001b[1m56s\u001b[0m 343ms/step\n",
      "\u001b[1m163/163\u001b[0m \u001b[32m━━━━━━━━━━━━━━━━━━━━\u001b[0m\u001b[37m\u001b[0m \u001b[1m57s\u001b[0m 349ms/step\n",
      "\u001b[1m20/20\u001b[0m \u001b[32m━━━━━━━━━━━━━━━━━━━━\u001b[0m\u001b[37m\u001b[0m \u001b[1m6s\u001b[0m 308ms/step\n",
      "\u001b[1m20/20\u001b[0m \u001b[32m━━━━━━━━━━━━━━━━━━━━\u001b[0m\u001b[37m\u001b[0m \u001b[1m6s\u001b[0m 317ms/step\n",
      "\u001b[1m20/20\u001b[0m \u001b[32m━━━━━━━━━━━━━━━━━━━━\u001b[0m\u001b[37m\u001b[0m \u001b[1m7s\u001b[0m 339ms/step\n"
     ]
    }
   ],
   "source": [
    "import numpy as np\n",
    "from sklearn.ensemble import StackingClassifier\n",
    "from sklearn.linear_model import LogisticRegression\n",
    "from sklearn.metrics import confusion_matrix, accuracy_score, classification_report\n",
    "import seaborn as sns\n",
    "import matplotlib.pyplot as plt\n",
    "\n",
    "# Generate predictions on the training data\n",
    "train_preds_model1 = model1.predict(train_generator)\n",
    "train_preds_model2 = model2.predict(train_generator)\n",
    "train_preds_model3 = model3.predict(train_generator)\n",
    "\n",
    "# Convert probabilities to binary predictions\n",
    "train_binary_preds_model1 = (train_preds_model1 > 0.5).astype(int)\n",
    "train_binary_preds_model2 = (train_preds_model2 > 0.5).astype(int)\n",
    "train_binary_preds_model3 = (train_preds_model3 > 0.5).astype(int)\n",
    "\n",
    "# Stack the predictions as new features\n",
    "train_stack_features = np.column_stack((train_binary_preds_model1, train_binary_preds_model2, train_binary_preds_model3))\n",
    "\n",
    "# Get the true labels\n",
    "train_labels = train_generator.classes\n",
    "\n",
    "# Define the meta-model\n",
    "meta_model = LogisticRegression()\n",
    "\n",
    "# Train the meta-model on the stacked features\n",
    "meta_model.fit(train_stack_features, train_labels)\n",
    "\n",
    "# Generate predictions on the test data\n",
    "test_preds_model1 = model1.predict(test_generator)\n",
    "test_preds_model2 = model2.predict(test_generator)\n",
    "test_preds_model3 = model3.predict(test_generator)\n",
    "\n",
    "# Convert probabilities to binary predictions\n",
    "test_binary_preds_model1 = (test_preds_model1 > 0.5).astype(int)\n",
    "test_binary_preds_model2 = (test_preds_model2 > 0.5).astype(int)\n",
    "test_binary_preds_model3 = (test_preds_model3 > 0.5).astype(int)\n",
    "\n",
    "# Stack the predictions as new features\n",
    "test_stack_features = np.column_stack((test_binary_preds_model1, test_binary_preds_model2, test_binary_preds_model3))\n",
    "\n",
    "# Make predictions using the meta-model\n",
    "final_preds_test = meta_model.predict(test_stack_features)\n"
   ]
  },
  {
   "cell_type": "code",
   "execution_count": 23,
   "metadata": {},
   "outputs": [
    {
     "name": "stdout",
     "output_type": "stream",
     "text": [
      "Ensemble Model Accuracy: 0.625\n"
     ]
    }
   ],
   "source": [
    "# Evaluate the results\n",
    "# Accuracy\n",
    "accuracy = accuracy_score(test_generator.classes, final_preds_test)\n",
    "print(f'Ensemble Model Accuracy: {accuracy}')"
   ]
  },
  {
   "cell_type": "code",
   "execution_count": 24,
   "metadata": {},
   "outputs": [
    {
     "name": "stdout",
     "output_type": "stream",
     "text": [
      "Precision: 0.6250\n"
     ]
    }
   ],
   "source": [
    "# Calculate precision\n",
    "precision = precision_score(y_test, final_preds_test)\n",
    "print(f'Precision: {precision:.4f}')"
   ]
  },
  {
   "cell_type": "code",
   "execution_count": 25,
   "metadata": {},
   "outputs": [
    {
     "name": "stdout",
     "output_type": "stream",
     "text": [
      "Recall: 1.0000\n"
     ]
    }
   ],
   "source": [
    "# Calculate recall\n",
    "recall = recall_score(y_test, final_preds_test)\n",
    "print(f'Recall: {recall:.4f}')"
   ]
  },
  {
   "cell_type": "code",
   "execution_count": 26,
   "metadata": {},
   "outputs": [
    {
     "name": "stdout",
     "output_type": "stream",
     "text": [
      "F1-score: 0.7692\n"
     ]
    }
   ],
   "source": [
    "# Calculate F1-score\n",
    "f1 = f1_score(y_test, final_preds_test)\n",
    "print(f'F1-score: {f1:.4f}')"
   ]
  },
  {
   "cell_type": "code",
   "execution_count": 27,
   "metadata": {},
   "outputs": [
    {
     "data": {
      "image/png": "[encoded data removed]",
      "text/plain": [
       "<Figure size 800x600 with 2 Axes>"
      ]
     },
     "metadata": {},
     "output_type": "display_data"
    },
    {
     "name": "stdout",
     "output_type": "stream",
     "text": [
      "              precision    recall  f1-score   support\n",
      "\n",
      "     Healthy       0.00      0.00      0.00       234\n",
      "   Pneumonia       0.62      1.00      0.77       390\n",
      "\n",
      "    accuracy                           0.62       624\n",
      "   macro avg       0.31      0.50      0.38       624\n",
      "weighted avg       0.39      0.62      0.48       624\n",
      "\n"
     ]
    },
    {
     "name": "stderr",
     "output_type": "stream",
     "text": [
      "c:\\Users\\bertr\\anaconda3\\envs\\bootcmap\\lib\\site-packages\\sklearn\\metrics\\_classification.py:1509: UndefinedMetricWarning: Precision is ill-defined and being set to 0.0 in labels with no predicted samples. Use `zero_division` parameter to control this behavior.\n",
      "  _warn_prf(average, modifier, f\"{metric.capitalize()} is\", len(result))\n",
      "c:\\Users\\bertr\\anaconda3\\envs\\bootcmap\\lib\\site-packages\\sklearn\\metrics\\_classification.py:1509: UndefinedMetricWarning: Precision is ill-defined and being set to 0.0 in labels with no predicted samples. Use `zero_division` parameter to control this behavior.\n",
      "  _warn_prf(average, modifier, f\"{metric.capitalize()} is\", len(result))\n",
      "c:\\Users\\bertr\\anaconda3\\envs\\bootcmap\\lib\\site-packages\\sklearn\\metrics\\_classification.py:1509: UndefinedMetricWarning: Precision is ill-defined and being set to 0.0 in labels with no predicted samples. Use `zero_division` parameter to control this behavior.\n",
      "  _warn_prf(average, modifier, f\"{metric.capitalize()} is\", len(result))\n"
     ]
    }
   ],
   "source": [
    "\n",
    "# Confusion Matrix\n",
    "cm = confusion_matrix(test_generator.classes, final_preds_test)\n",
    "plt.figure(figsize=(8, 6))\n",
    "sns.heatmap(cm, annot=True, fmt='d', cmap='Blues')\n",
    "plt.xlabel('Predicted Label')\n",
    "plt.ylabel('True Label')\n",
    "plt.title('Confusion Matrix')\n",
    "plt.show()"
   ]
  },
  {
   "cell_type": "markdown",
   "metadata": {},
   "source": [
    "En esta celda, podemos ver que hay únicamente falsos positivos y verdaderos positivos. Como ya se ha dicho numerosas veces a lo largo del proyecto, es bastante peligroso tener muchos de estos debido a que dice que el paciente no tiene neumonía cuando si la tiene. "
   ]
  },
  {
   "cell_type": "markdown",
   "metadata": {},
   "source": [
    "## **Conclusiones**\n",
    "\n",
    "En conclusión, he decidido tomar el modelo de VotingClassifier como el que me llevaré a producción, debido a que es el que menos falsos positivos tiene. "
   ]
  }
 ],
 "metadata": {
  "kernelspec": {
   "display_name": "bootcmap",
   "language": "python",
   "name": "python3"
  },
  "language_info": {
   "codemirror_mode": {
    "name": "ipython",
    "version": 3
   },
   "file_extension": ".py",
   "mimetype": "text/x-python",
   "name": "python",
   "nbconvert_exporter": "python",
   "pygments_lexer": "ipython3",
   "version": "3.10.13"
  }
 },
 "nbformat": 4,
 "nbformat_minor": 2
}
