{
 "cells": [
  {
   "cell_type": "markdown",
   "metadata": {},
   "source": [
    "# **1- Resumen ejecutivo**\n",
    "\n",
    "## Neumonía: qué es, datos, diagnóstico y tratamientos\n",
    "La neumonía es una inflamación que ocurre en los sacos de aire de uno o ambos pulmones, causada por gérmenes como bacterias, virus u hongos. Alrededor de 450 millones de personas sufren de neumonía al año. Aproximadamente el 5 al 10 por ciento de los pacientes hospitalizados fallecen, mientras que el 30 por ciento de los pacientes en cuidados intensivos mueren.\n",
    "\n",
    "Esta enfermedad presenta los siguientes riesgos:\n",
    "*    **Dificultades para respirar:** Disminuye los niveles de oxígeno en la sangre.\n",
    "*    **Sepsis:** La infección puede propagarse a todo el cuerpo, inflamando otros órganos vitales.\n",
    "*    **Absceso pulmonar:** Se pueden formar cavidades de pus en el pulmón, lo que puede requerir tratamiento antibiótico o drenaje quirúrgico.\n",
    "*    **Agravar enfermedades preexistentes**: Se pueden llegar a empeorar enfermedades que el paciente ya sufría antes de ser ingresado.\n",
    "\n",
    "Esta enfermedad es más grave para los niños pequeños, las personas mayores de 65 años y aquellas con problemas de salud o sistemas inmunes débiles.\n",
    "\n",
    "La neumonía puede llegar a ser difícil de diagnosticar, debido a que los síntomas son muy parecidos a los de un resfriado común. Los médicos por lo general usan radiografías para detectarla.\n",
    "\n",
    "Una vez realizado el diagnóstico, los pacientes deberán consumir antibióticos hasta la fecha indicada por el médico, pero por lo general unos tres días. En caso de que la enfermedad empeore, o que el paciente forme parte de estos grupos de riesgo mencionados anteriormente, recibirá cuidados intensivos en el hospital.\n",
    "  \n",
    "## Los datos\n",
    "Los datos que se usarán para este proyecto provienen de la página web Kaggle, con el título \"Chest X-Ray Images (Pneumonia)\" (\"Imágenes de rayos X de neumonía\" en inglés), y fueron subidas por el usuario Paul Mooney hace 6 años. Estas imágenes son un amplio conjunto de radiografías de pulmones que fueron seleccionados de cohortes de pacientes pediátricos de uno a cinco años del Centro Médico para Mujeres y Niños de Guangzhou, en Guangzhou, China. Todas las imágenes de rayos X de tórax se realizaron como parte de la atención clínica rutinaria de los pacientes.\n",
    "\n",
    "Los datos están separados en tres conjuntos:\n",
    "*   **train**: Los datos de entrenamiento, usados para entrenar el modelo. En ciencia de datos, convencionalmente este conjunto de datos toma un 70% de todos los datos.\n",
    "*   **test**: Los datos de prueba, usados para probar la eficacia del modelo. Convencionalmente, es un 20% de los datos originales\n",
    "*   **val**: Los datos de validación, usados al final para ver si el modelo se entrenó correctamente. Convencionalmente, es un 10% de los datos originales. \n",
    "\n",
    "Cada uno tiene una serie de imágenes separadas en dos carpetas, algunas de unas radiografías normales, en la carpeta \"NORMAL\", y las otras con radiografías de pulmones con neumonía, en las carpetas \"PNEUMONIA\". \n",
    "\n",
    "## El proyecto en sí\n",
    "Este proyecto busca usar estas imágenes para entrenar una red neuronal que pueda identificar si una nueva imagen es de unos pulmones sanos o infectados con neumonía. Se usarán distintas herramientas que se explicarán más adelante. Una vez listo, este modelo se podría usar para trabajar en conjunto con médicos expertos, y no para reemplazarlos. Al igual que algunos médicos acuden a la opinión de sus colegas para algunos casos, mi idea es que este modelo sea otra de las herramientas que puedan usar los médicos a la hora de proveer un diagnóstico a un paciente.\n",
    "\n",
    "En el notebook siguiente, se encuentra el análisis exploratorio de datos. "
   ]
  }
 ],
 "metadata": {
  "language_info": {
   "name": "python"
  }
 },
 "nbformat": 4,
 "nbformat_minor": 2
}
