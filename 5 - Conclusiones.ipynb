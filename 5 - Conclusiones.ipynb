{
 "cells": [
  {
   "cell_type": "markdown",
   "metadata": {},
   "source": [
    "# **5 - Conclusiones**\n",
    "\n",
    "En conclusión, estoy bastante contento con los resultados de mi proyecto. El accuracy final del ensamblado era alrededor de un 60 porciento, que dado que es un primer modelo sin ningún tipo de tuning, es una métrica bastante buena. Algo importante para mejorar a futuro es reducir la cantidad de falsos positivos, y tal vez tener mas falsos negativos, y mejor aún mas verdaderos negativos. Esto es debido a que es mucho más grave predecir que alguien no tiene neumonía cuando en realidad si lo tiene, que vice versa.\n",
    "\n",
    "En cuanto a los datos en sí, es importante recordar que estos únicamente son de niños de enter 1 y 5 años de China. No se están representando muchísimos grupos que podrían también usar este modelo, tales como adultos de tercera edad, pacientes con problemas imunológicos, o todos los otros grupos de riesgo mencionados al principio de este proyecto. Además, no están representados los pulmones de una persona normal adulta. \n",
    "\n",
    "Dado que no soy un médico, no sabría identificar si los pulmones de estos grupos son muy distintos. En un caso ideal, este proyecto se debería realizar en conjunto a un grupo médico para que ellos opinen acerca de las mejores maneras de realizar este modelo, y si lo necesitan para un grupo en particular. \n",
    "\n",
    "En conclusión, un mejor modelo debería mejorar el accuracy y representar a más grupos. \n",
    "\n",
    "En lo personal, he disfrutado mucho este proyecto, ya que me ha permitido aprender mucho acerca de herramientas que no había usado anteriormente, como generadores o APIs. Es fascinante ver lo potentes que son las herramientas que tiene a mano un científico de datos. "
   ]
  }
 ],
 "metadata": {
  "language_info": {
   "name": "python"
  }
 },
 "nbformat": 4,
 "nbformat_minor": 2
}
